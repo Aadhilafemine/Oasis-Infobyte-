{
  "nbformat": 4,
  "nbformat_minor": 0,
  "metadata": {
    "colab": {
      "provenance": []
    },
    "kernelspec": {
      "name": "python3",
      "display_name": "Python 3"
    },
    "language_info": {
      "name": "python"
    }
  },
  "cells": [
    {
      "cell_type": "code",
      "execution_count": null,
      "metadata": {
        "id": "R3ueNbjWjdnR"
      },
      "outputs": [],
      "source": [
        "import pandas as pd"
      ]
    },
    {
      "cell_type": "code",
      "source": [
        "# Step 1: Import the dataset\n",
        "nyc_data = pd.read_csv('AB_NYC_2019.csv')"
      ],
      "metadata": {
        "id": "JuxHO0Nhjucx"
      },
      "execution_count": null,
      "outputs": []
    },
    {
      "cell_type": "code",
      "source": [
        "# Step 2: Handle Missing Data\n",
        "nyc_data_cleaned = nyc_data.dropna(subset=['name', 'host_name'])"
      ],
      "metadata": {
        "id": "0QrzQiV_ktwe"
      },
      "execution_count": null,
      "outputs": []
    },
    {
      "cell_type": "code",
      "source": [
        "# Fill missing values in 'reviews_per_month' with 0, assuming no reviews were given (avoids warning with .loc)\n",
        "nyc_data_cleaned.loc[:, 'reviews_per_month'] = nyc_data_cleaned['reviews_per_month'].fillna(0)"
      ],
      "metadata": {
        "id": "sGbgEnnwkyOO"
      },
      "execution_count": null,
      "outputs": []
    },
    {
      "cell_type": "code",
      "source": [
        "# Step 3: Handle Duplicate Records\n",
        "nyc_data_cleaned = nyc_data_cleaned.drop_duplicates(subset='id', keep='first')"
      ],
      "metadata": {
        "id": "1VQvpbxkk0pv"
      },
      "execution_count": null,
      "outputs": []
    },
    {
      "cell_type": "code",
      "source": [
        "# Step 4: Standardization (Consistency Check)\n",
        "nyc_data_cleaned = nyc_data_cleaned[nyc_data_cleaned['price'] >= 0]"
      ],
      "metadata": {
        "id": "mW2yi1QZk3Uv"
      },
      "execution_count": null,
      "outputs": []
    },
    {
      "cell_type": "code",
      "source": [
        "# Step 5: Outlier Detection (e.g., Price and Minimum Nights)\n",
        "price_upper_limit = nyc_data_cleaned['price'].quantile(0.99)\n",
        "min_nights_upper_limit = nyc_data_cleaned['minimum_nights'].quantile(0.99)"
      ],
      "metadata": {
        "id": "9ExSkH0ik8Ii"
      },
      "execution_count": null,
      "outputs": []
    },
    {
      "cell_type": "code",
      "source": [
        "# Remove outliers in 'price' and 'minimum_nights'\n",
        "nyc_data_cleaned = nyc_data_cleaned[nyc_data_cleaned['price'] <= price_upper_limit]\n",
        "nyc_data_cleaned = nyc_data_cleaned[nyc_data_cleaned['minimum_nights'] <= min_nights_upper_limit]"
      ],
      "metadata": {
        "id": "rNm2andPk_Jh"
      },
      "execution_count": null,
      "outputs": []
    },
    {
      "cell_type": "code",
      "source": [
        "# Step 5: Standardize 'last_review' date column (if necessary)\n",
        "nyc_data_cleaned.loc[:, 'last_review'] = pd.to_datetime(nyc_data_cleaned['last_review'], errors='coerce')"
      ],
      "metadata": {
        "id": "z_cwFjjFlBf9"
      },
      "execution_count": null,
      "outputs": []
    },
    {
      "cell_type": "code",
      "source": [
        "# Final Check: Display cleaned dataset info and preview\n",
        "print(\"Cleaned Data Info:\\n\", nyc_data_cleaned.info())\n",
        "print(\"Preview of Cleaned Data:\\n\", nyc_data_cleaned.head())"
      ],
      "metadata": {
        "colab": {
          "base_uri": "https://localhost:8080/"
        },
        "id": "oa8YjbWMlDrI",
        "outputId": "2fdc7370-41c5-4275-d413-0025f0891b66"
      },
      "execution_count": null,
      "outputs": [
        {
          "output_type": "stream",
          "name": "stdout",
          "text": [
            "<class 'pandas.core.frame.DataFrame'>\n",
            "Index: 47939 entries, 0 to 48894\n",
            "Data columns (total 16 columns):\n",
            " #   Column                          Non-Null Count  Dtype  \n",
            "---  ------                          --------------  -----  \n",
            " 0   id                              47939 non-null  int64  \n",
            " 1   name                            47939 non-null  object \n",
            " 2   host_id                         47939 non-null  int64  \n",
            " 3   host_name                       47939 non-null  object \n",
            " 4   neighbourhood_group             47939 non-null  object \n",
            " 5   neighbourhood                   47939 non-null  object \n",
            " 6   latitude                        47939 non-null  float64\n",
            " 7   longitude                       47939 non-null  float64\n",
            " 8   room_type                       47939 non-null  object \n",
            " 9   price                           47939 non-null  int64  \n",
            " 10  minimum_nights                  47939 non-null  int64  \n",
            " 11  number_of_reviews               47939 non-null  int64  \n",
            " 12  last_review                     38330 non-null  object \n",
            " 13  reviews_per_month               47939 non-null  float64\n",
            " 14  calculated_host_listings_count  47939 non-null  int64  \n",
            " 15  availability_365                47939 non-null  int64  \n",
            "dtypes: float64(3), int64(7), object(6)\n",
            "memory usage: 6.2+ MB\n",
            "Cleaned Data Info:\n",
            " None\n",
            "Preview of Cleaned Data:\n",
            "      id                                              name  host_id  \\\n",
            "0  2539                Clean & quiet apt home by the park     2787   \n",
            "1  2595                             Skylit Midtown Castle     2845   \n",
            "2  3647               THE VILLAGE OF HARLEM....NEW YORK !     4632   \n",
            "3  3831                   Cozy Entire Floor of Brownstone     4869   \n",
            "4  5022  Entire Apt: Spacious Studio/Loft by central park     7192   \n",
            "\n",
            "     host_name neighbourhood_group neighbourhood  latitude  longitude  \\\n",
            "0         John            Brooklyn    Kensington  40.64749  -73.97237   \n",
            "1     Jennifer           Manhattan       Midtown  40.75362  -73.98377   \n",
            "2    Elisabeth           Manhattan        Harlem  40.80902  -73.94190   \n",
            "3  LisaRoxanne            Brooklyn  Clinton Hill  40.68514  -73.95976   \n",
            "4        Laura           Manhattan   East Harlem  40.79851  -73.94399   \n",
            "\n",
            "         room_type  price  minimum_nights  number_of_reviews  \\\n",
            "0     Private room    149               1                  9   \n",
            "1  Entire home/apt    225               1                 45   \n",
            "2     Private room    150               3                  0   \n",
            "3  Entire home/apt     89               1                270   \n",
            "4  Entire home/apt     80              10                  9   \n",
            "\n",
            "           last_review  reviews_per_month  calculated_host_listings_count  \\\n",
            "0  2018-10-19 00:00:00               0.21                               6   \n",
            "1  2019-05-21 00:00:00               0.38                               2   \n",
            "2                  NaT               0.00                               1   \n",
            "3  2019-07-05 00:00:00               4.64                               1   \n",
            "4  2018-11-19 00:00:00               0.10                               1   \n",
            "\n",
            "   availability_365  \n",
            "0               365  \n",
            "1               355  \n",
            "2               365  \n",
            "3               194  \n",
            "4                 0  \n"
          ]
        }
      ]
    },
    {
      "cell_type": "code",
      "source": [],
      "metadata": {
        "id": "gQG97PTjlF6g"
      },
      "execution_count": null,
      "outputs": []
    }
  ]
}